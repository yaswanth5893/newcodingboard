{
 "cells": [
  {
   "cell_type": "code",
   "execution_count": 3,
   "id": "a186f142-0b9a-41a2-a809-56b61c51f393",
   "metadata": {},
   "outputs": [
    {
     "name": "stdout",
     "output_type": "stream",
     "text": [
      "2\n"
     ]
    }
   ],
   "source": [
    "x=[1,2,3]\n",
    "print(x.index(3))"
   ]
  },
  {
   "cell_type": "code",
   "execution_count": 14,
   "id": "20ea56f6-75a9-4a2e-ae33-e1e9853f5ec6",
   "metadata": {},
   "outputs": [
    {
     "name": "stdout",
     "output_type": "stream",
     "text": [
      "hell\n"
     ]
    }
   ],
   "source": [
    "s=\"hello\"\n",
    "print(s[0:4])"
   ]
  },
  {
   "cell_type": "code",
   "execution_count": 10,
   "id": "e84bd4b7-084a-46f5-a45c-e51b4f0149bc",
   "metadata": {},
   "outputs": [
    {
     "name": "stdin",
     "output_type": "stream",
     "text": [
      "enter a value 10\n"
     ]
    },
    {
     "name": "stdout",
     "output_type": "stream",
     "text": [
      "num is not prime\n"
     ]
    }
   ],
   "source": [
    "num=int(input(\"enter a value\"))\n",
    "count=0;\n",
    "i=1;\n",
    "if(num>i):\n",
    "      for i in range(i,num+i):\n",
    "           if(num%i==0):\n",
    "                count=count+1;\n",
    "if(count==2):\n",
    "      print(\"num is prime\")\n",
    "else:\n",
    "      print(\"num is not prime\")\n"
   ]
  },
  {
   "cell_type": "code",
   "execution_count": 20,
   "id": "691974c5-10b7-485a-98bf-7304851f1cd4",
   "metadata": {},
   "outputs": [
    {
     "name": "stdout",
     "output_type": "stream",
     "text": [
      "120\n"
     ]
    }
   ],
   "source": [
    "num=5;\n",
    "fact=1;\n",
    "for i in range(1,num+1):\n",
    "             fact=fact*i\n",
    "print(fact)\n",
    "           \n",
    "                   "
   ]
  },
  {
   "cell_type": "code",
   "execution_count": null,
   "id": "a932f323-6d62-492a-bbd2-39e34ea7b9a8",
   "metadata": {},
   "outputs": [],
   "source": []
  },
  {
   "cell_type": "code",
   "execution_count": null,
   "id": "a9728cd2-2124-4226-8f52-34e258259e5f",
   "metadata": {},
   "outputs": [],
   "source": []
  }
 ],
 "metadata": {
  "kernelspec": {
   "display_name": "Python 3 (ipykernel)",
   "language": "python",
   "name": "python3"
  },
  "language_info": {
   "codemirror_mode": {
    "name": "ipython",
    "version": 3
   },
   "file_extension": ".py",
   "mimetype": "text/x-python",
   "name": "python",
   "nbconvert_exporter": "python",
   "pygments_lexer": "ipython3",
   "version": "3.12.4"
  }
 },
 "nbformat": 4,
 "nbformat_minor": 5
}
